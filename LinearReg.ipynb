{
  "nbformat": 4,
  "nbformat_minor": 0,
  "metadata": {
    "colab": {
      "name": "LinearReg.ipynb",
      "version": "0.3.2",
      "provenance": [],
      "collapsed_sections": [],
      "include_colab_link": true
    },
    "kernelspec": {
      "name": "python3",
      "display_name": "Python 3"
    }
  },
  "cells": [
    {
      "cell_type": "markdown",
      "metadata": {
        "id": "view-in-github",
        "colab_type": "text"
      },
      "source": [
        "<a href=\"https://colab.research.google.com/github/sanah-imani/DrugDisc/blob/master/LinearReg.ipynb\" target=\"_parent\"><img src=\"https://colab.research.google.com/assets/colab-badge.svg\" alt=\"Open In Colab\"/></a>"
      ]
    },
    {
      "metadata": {
        "id": "8sN3dqvbS4Lc",
        "colab_type": "code",
        "outputId": "7f66832d-1e38-43a5-f104-1cf45148da10",
        "colab": {
          "base_uri": "https://localhost:8080/",
          "height": 71
        }
      },
      "cell_type": "code",
      "source": [
        "from chembl_webresource_client.new_client import new_client\n",
        "drug_indication = new_client.drug_indication\n",
        "molecules = new_client.molecule\n",
        "lung_cancer_ind = drug_indication.filter(efo_term__icontains=\"LUNG CARCINOMA\")\n",
        "lung_cancer_mols = molecules.filter(molecule_chembl_id__in=[x['molecule_chembl_id'] for x in lung_cancer_ind])"
      ],
      "execution_count": 0,
      "outputs": [
        {
          "output_type": "stream",
          "text": [
            "/usr/local/lib/python3.6/dist-packages/grequests.py:21: MonkeyPatchWarning: Monkey-patching ssl after ssl has already been imported may lead to errors, including RecursionError on Python 3.6. It may also silently lead to incorrect behaviour on Python 3.7. Please monkey-patch earlier. See https://github.com/gevent/gevent/issues/1016. Modules that had direct imports (NOT patched): ['urllib3.util (/usr/local/lib/python3.6/dist-packages/urllib3/util/__init__.py)', 'urllib3.contrib.pyopenssl (/usr/local/lib/python3.6/dist-packages/urllib3/contrib/pyopenssl.py)']. \n",
            "  curious_george.patch_all(thread=False, select=False)\n"
          ],
          "name": "stderr"
        }
      ]
    },
    {
      "metadata": {
        "id": "GYDhjXS6ksYR",
        "colab_type": "code",
        "colab": {}
      },
      "cell_type": "code",
      "source": [
        "import pandas as pd\n",
        "\n",
        "arr = lung_cancer_mols[0]['molecule_properties']\n",
        "for i in range(0,1):\n",
        "    arr['max_phase'] = lung_cancer_mols[i]['max_phase']\n",
        "arr['active'] = 1\n",
        "arr_labels = []\n",
        "for key in arr.keys():\n",
        "    arr_labels.append(key)\n",
        "a = []\n",
        "for i in range(24):\n",
        "    a.append([])   \n",
        "    \n",
        "\n",
        "\n",
        "for q in range(0,24):\n",
        "    a[q].append(arr[arr_labels[q]])\n",
        "    \n",
        "\n",
        "\n",
        "index = []\n",
        "for p in range(1,5):\n",
        "    count = 1\n",
        "    list1 = lung_cancer_mols[p]['molecule_properties']\n",
        "    list1['max_phase'] = lung_cancer_mols[p]['max_phase']\n",
        "    list1['active'] = 1\n",
        "    for j in range(0,24):\n",
        "        a[j].append(list1[arr_labels[j]])\n",
        "    count += 1\n",
        "\n",
        "\n",
        "def makeDict(list1, list2):\n",
        "    new_Dict = {}\n",
        "    for i in range(0,24):\n",
        "        new_Dict[list1[i]] = list2[i]\n",
        "    return new_Dict\n",
        "for i in range(1,6):\n",
        "    index.append(i)\n",
        "data  = pd.DataFrame(data = makeDict(arr_labels, a),index = index)\n",
        "\n",
        "data1 = pd.DataFrame(data = makeDict(arr_labels, a),index = index)\n",
        "\n",
        "data1.head()"
      ],
      "execution_count": 0,
      "outputs": []
    },
    {
      "metadata": {
        "id": "wC_ZBPO1kwKV",
        "colab_type": "code",
        "colab": {}
      },
      "cell_type": "code",
      "source": [
        "import numpy as np\n",
        "#Model one: Active or Inactive\n",
        "data1 = pd.DataFrame(data = makeDict(arr_labels, a),index = index)\n",
        "data1.drop(labels = ['max_phase', 'full_molformula'],axis = 1,inplace= True)\n",
        "data1['molecular_species'].replace(to_replace=['NEUTRAL'], value = 0.5, inplace = True)\n",
        "data1['molecular_species'].replace(to_replace=['BASE'], value = 1,inplace=True)\n",
        "data1['ro3_pass'].replace(to_replace=['Y'], value = 1,inplace=True)\n",
        "data1['ro3_pass'].replace(to_replace = ['N'], value = 0, inplace=True)\n",
        "data1['molecular_species'].replace(to_replace=['ACID'], value = 0,inplace=True)\n",
        "data1 = data1.apply(pd.to_numeric, errors = 'ignore')\n",
        "X = data1.iloc[:,:-1].values\n",
        "\n",
        "\n",
        "\n",
        "y = data1.iloc[:,21].values\n",
        "\n",
        "print(X[2])\n",
        "\n",
        "\n",
        "\n"
      ],
      "execution_count": 0,
      "outputs": []
    },
    {
      "metadata": {
        "id": "nmuzWKE4kzmJ",
        "colab_type": "code",
        "colab": {}
      },
      "cell_type": "code",
      "source": [
        "from chembl_webresource_client.new_client import new_client\n",
        "drug_indication = new_client.drug_indication\n",
        "molecules = new_client.molecule\n",
        "ovary_cancer_ind = drug_indication.filter(efo_term__icontains=\"OVARIAN NEOPLASM\")\n",
        "ovary_cancer_mols = molecules.filter(molecule_chembl_id__in=[x['molecule_chembl_id'] for x in ovary_cancer_ind])"
      ],
      "execution_count": 0,
      "outputs": []
    },
    {
      "metadata": {
        "id": "OFJIpAjXk3Zy",
        "colab_type": "code",
        "colab": {}
      },
      "cell_type": "code",
      "source": [
        "import pandas as pd\n",
        "\n",
        "\n",
        "\n",
        "    \n",
        "arr = ovary_cancer_mols[0]['molecule_properties']\n",
        "\n",
        "for i in range(0,1):\n",
        "    arr['max_phase'] = ovary_cancer_mols[i]['max_phase']\n",
        "arr['active'] = 0\n",
        "arr_labels = []\n",
        "for key in arr.keys():\n",
        "    arr_labels.append(key)\n",
        "a = []\n",
        "for i in range(24):\n",
        "    a.append([])   \n",
        "    \n",
        "\n",
        "\n",
        "for q in range(0,24):\n",
        "    a[q].append(arr[arr_labels[q]])\n",
        "    \n",
        "\n",
        "\n",
        "index2 = []\n",
        "for p in range(1,5):\n",
        "    count = 1\n",
        "    list1 = ovary_cancer_mols[p]['molecule_properties']\n",
        "    if ovary_cancer_mols[p]['max_phase'] == None:\n",
        "        ovary_cancer_mols[p]['max_phase'] = float('nan')\n",
        "        \n",
        "    list1['max_phase'] = ovary_cancer_mols[p]['max_phase']\n",
        "    list1['active'] = 0\n",
        "    for j in range(0,24):\n",
        "        a[j].append(list1[arr_labels[j]])\n",
        "    count += 1\n",
        "\n",
        "\n",
        "def makeDict(list1, list2):\n",
        "    new_Dict = {}\n",
        "    for i in range(0,24):\n",
        "        new_Dict[list1[i]] = list2[i]\n",
        "    return new_Dict\n",
        "\n",
        "for i in range(5+1, 5+6):\n",
        "    index2.append(i)\n",
        "    \n",
        "data3 = pd.DataFrame(data = makeDict(arr_labels, a), index = index2)\n",
        "\n",
        "data3.head()"
      ],
      "execution_count": 0,
      "outputs": []
    },
    {
      "metadata": {
        "id": "RwH6W0C6k6z2",
        "colab_type": "code",
        "colab": {}
      },
      "cell_type": "code",
      "source": [
        "data2 = data2.append(data3)\n",
        "\n",
        "data2.drop(labels = ['max_phase', 'full_molformula'],axis = 1,inplace= True)\n",
        "data2['molecular_species'].replace(to_replace=['NEUTRAL'], value = 0.5, inplace = True)\n",
        "data2['molecular_species'].replace(to_replace=['BASE'], value = 1,inplace=True)\n",
        "data2['ro3_pass'].replace(to_replace=['Y'], value = 1,inplace=True)\n",
        "data2['ro3_pass'].replace(to_replace = ['N'], value = 0, inplace=True)\n",
        "data2['molecular_species'].replace(to_replace=['ACID'], value = 0,inplace=True)\n",
        "data2 = data2.apply(pd.to_numeric, errors = 'ignore')\n",
        "X = data2.iloc[:,:-1].values\n",
        "\n",
        "\n",
        "y = data2.iloc[:,21].values"
      ],
      "execution_count": 0,
      "outputs": []
    },
    {
      "metadata": {
        "id": "fRP9F2YslFL4",
        "colab_type": "code",
        "colab": {}
      },
      "cell_type": "code",
      "source": [
        "from sklearn.linear_model import LinearRegression"
      ],
      "execution_count": 0,
      "outputs": []
    },
    {
      "metadata": {
        "id": "6zlKKoLPlHTx",
        "colab_type": "code",
        "colab": {}
      },
      "cell_type": "code",
      "source": [
        "from statistics import median\n",
        "\n",
        "import math\n",
        "for i in range(0,10):\n",
        "    for j in range(0, len(X[i])):\n",
        "        lst = []\n",
        "        if math.isnan(X[i][j]):\n",
        "            for b in range(0,10):\n",
        "                if math.isnan(X[b][j]) == False:\n",
        "                    \n",
        "                    lst.append(X[b][j])\n",
        "            X[i][j] = median(lst)\n",
        "            \n",
        "for i in range(0,10):\n",
        "    for j in range(0, len(X[i])):\n",
        "        X[i][j] = np.float64(X[i][j])\n",
        "def median(lst):\n",
        "    sortedLst = sorted(lst)\n",
        "    lstLen = len(lst)\n",
        "    index = (lstLen - 1) // 2\n",
        "\n",
        "    if (lstLen % 2):\n",
        "        return sortedLst[index]\n",
        "    else:\n",
        "        return (sortedLst[index] + sortedLst[index + 1])/2.0\n",
        "            \n",
        "\n"
      ],
      "execution_count": 0,
      "outputs": []
    },
    {
      "metadata": {
        "id": "Z986vLRzlKwF",
        "colab_type": "code",
        "colab": {}
      },
      "cell_type": "code",
      "source": [
        "%matplotlib inline\n",
        "\n",
        "import matplotlib.pyplot as plt\n",
        "from matplotlib import style\n",
        "style.use(\"ggplot\")\n",
        "\n",
        "from sklearn import linear_model\n",
        "\n",
        "#Fitting Multiple Linear Regression to the Training set\n",
        "\n",
        "regressor = linear_model.LinearRegression()\n",
        "\n",
        "regressor.fit(X_train,y_train)\n",
        "\n",
        "#Predictions array\n",
        "predY = regressor.predict(X_test)\n",
        "\n",
        "#Using Ridge Regression\n",
        "\n",
        "clf = linear_model.Ridge(alpha = 1.0)\n",
        "\n",
        "clf.fit(X_train, y_train)\n",
        "\n",
        "#Predictions array\n",
        "\n",
        "RidgePred = clf.predict(X_test)\n",
        "\n",
        "#Using ARDRegression\n",
        "\n",
        "clf = linear_model.ARDRegression(compute_score=True)\n",
        "clf.fit(X_train,y_train)\n",
        "\n",
        "#Predictions Array\n",
        "\n",
        "ARDPred = clf.predict(X_test)"
      ],
      "execution_count": 0,
      "outputs": []
    },
    {
      "metadata": {
        "id": "OEzGGG_WlOPm",
        "colab_type": "code",
        "colab": {}
      },
      "cell_type": "code",
      "source": [
        "from sklearn.metrics import roc_auc_score"
      ],
      "execution_count": 0,
      "outputs": []
    },
    {
      "metadata": {
        "id": "AbODFT3mlRFj",
        "colab_type": "code",
        "colab": {}
      },
      "cell_type": "code",
      "source": [
        "auc_LinReg = roc_auc_score(predY, y_test)"
      ],
      "execution_count": 0,
      "outputs": []
    },
    {
      "metadata": {
        "id": "iNFwsLr1lTJ3",
        "colab_type": "code",
        "colab": {}
      },
      "cell_type": "code",
      "source": [
        "auc_ARDReg = roc_auc_score(ARDPred,y_test)"
      ],
      "execution_count": 0,
      "outputs": []
    }
  ]
}