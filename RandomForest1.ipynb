{
  "nbformat": 4,
  "nbformat_minor": 0,
  "metadata": {
    "colab": {
      "name": "RandomForestNew1.ipynb",
      "version": "0.3.2",
      "provenance": [],
      "collapsed_sections": [],
      "include_colab_link": true
    },
    "kernelspec": {
      "name": "python3",
      "display_name": "Python 3"
    }
  },
  "cells": [
    {
      "cell_type": "markdown",
      "metadata": {
        "id": "view-in-github",
        "colab_type": "text"
      },
      "source": [
        "<a href=\"https://colab.research.google.com/github/sanah-imani/DrugDisc/blob/master/RandomForest1.ipynb\" target=\"_parent\"><img src=\"https://colab.research.google.com/assets/colab-badge.svg\" alt=\"Open In Colab\"/></a>"
      ]
    },
    {
      "metadata": {
        "id": "CJf2-BWYUTC2",
        "colab_type": "code",
        "outputId": "353c45b0-660b-4b1e-b3f4-a26e0b0b1c4e",
        "colab": {
          "base_uri": "https://localhost:8080/",
          "height": 71
        }
      },
      "cell_type": "code",
      "source": [
        "import numpy as np\n",
        "import pandas as pd\n",
        "from matplotlib import pyplot as plt\n",
        "from sklearn.ensemble import RandomForestClassifier\n",
        "from sklearn.cross_validation import train_test_split\n",
        "%matplotlib inline"
      ],
      "execution_count": 0,
      "outputs": [
        {
          "output_type": "stream",
          "text": [
            "/usr/local/lib/python3.6/dist-packages/sklearn/cross_validation.py:41: DeprecationWarning: This module was deprecated in version 0.18 in favor of the model_selection module into which all the refactored classes and functions are moved. Also note that the interface of the new CV iterators are different from that of this module. This module will be removed in 0.20.\n",
            "  \"This module will be removed in 0.20.\", DeprecationWarning)\n"
          ],
          "name": "stderr"
        }
      ]
    },
    {
      "metadata": {
        "id": "jB1Pf0c3kEGT",
        "colab_type": "code",
        "outputId": "64ec2f50-0196-4797-dd3e-e39828a38fa2",
        "colab": {
          "base_uri": "https://localhost:8080/",
          "height": 68
        }
      },
      "cell_type": "code",
      "source": [
        ""
      ],
      "execution_count": 0,
      "outputs": [
        {
          "output_type": "stream",
          "text": [
            "Collecting from\n",
            "\u001b[31m  Could not find a version that satisfies the requirement from (from versions: )\u001b[0m\n",
            "\u001b[31mNo matching distribution found for from\u001b[0m\n"
          ],
          "name": "stdout"
        }
      ]
    },
    {
      "metadata": {
        "id": "Emv0yx2OUd8U",
        "colab_type": "code",
        "outputId": "48988ecf-4427-4f43-e9d1-91714a6a3b97",
        "colab": {
          "base_uri": "https://localhost:8080/",
          "height": 71
        }
      },
      "cell_type": "code",
      "source": [
        "from chembl_webresource_client.new_client import new_client\n",
        "\n",
        "drug_indication = new_client.drug_indication\n",
        "molecules = new_client.molecule\n",
        "lung_cancer_ind = drug_indication.filter(efo_term__icontains=\"LUNG CARCINOMA\")\n",
        "lung_cancer_mols = molecules.filter(molecule_chembl_id__in=[x['molecule_chembl_id'] for x in lung_cancer_ind])"
      ],
      "execution_count": 0,
      "outputs": [
        {
          "output_type": "stream",
          "text": [
            "/usr/local/lib/python3.6/dist-packages/grequests.py:21: MonkeyPatchWarning: Monkey-patching ssl after ssl has already been imported may lead to errors, including RecursionError on Python 3.6. It may also silently lead to incorrect behaviour on Python 3.7. Please monkey-patch earlier. See https://github.com/gevent/gevent/issues/1016. Modules that had direct imports (NOT patched): ['urllib3.contrib.pyopenssl (/usr/local/lib/python3.6/dist-packages/urllib3/contrib/pyopenssl.py)', 'urllib3.util (/usr/local/lib/python3.6/dist-packages/urllib3/util/__init__.py)']. \n",
            "  curious_george.patch_all(thread=False, select=False)\n"
          ],
          "name": "stderr"
        }
      ]
    },
    {
      "metadata": {
        "id": "WXZfRhKrVLhT",
        "colab_type": "code",
        "colab": {}
      },
      "cell_type": "code",
      "source": [
        "from chembl_webresource_client.new_client import new_client\n",
        "drug_indication = new_client.drug_indication\n",
        "molecules = new_client.molecule\n",
        "ovary_cancer_ind = drug_indication.filter(efo_term__icontains=\"OVARIAN NEOPLASM\")\n",
        "ovary_cancer_mols = molecules.filter(molecule_chembl_id__in=[x['molecule_chembl_id'] for x in ovary_cancer_ind])"
      ],
      "execution_count": 0,
      "outputs": []
    },
    {
      "metadata": {
        "id": "5aEXmm7VVYHm",
        "colab_type": "code",
        "outputId": "c966c721-ff56-43af-dbba-1fe046bf88cc",
        "colab": {
          "base_uri": "https://localhost:8080/",
          "height": 253
        }
      },
      "cell_type": "code",
      "source": [
        "import pandas as pd\n",
        "\n",
        "\n",
        "\n",
        "    \n",
        "arr = ovary_cancer_mols[0]['molecule_properties']\n",
        "\n",
        "for i in range(0,1):\n",
        "    arr['max_phase'] = ovary_cancer_mols[i]['max_phase']\n",
        "arr['active'] = 0\n",
        "arr_labels = []\n",
        "for key in arr.keys():\n",
        "    arr_labels.append(key)\n",
        "a = []\n",
        "for i in range(24):\n",
        "    a.append([])   \n",
        "    \n",
        "\n",
        "\n",
        "for q in range(0,24):\n",
        "    a[q].append(arr[arr_labels[q]])\n",
        "    \n",
        "\n",
        "\n",
        "index2 = []\n",
        "for p in range(1,15):\n",
        "    count = 1\n",
        "    list1 = ovary_cancer_mols[p]['molecule_properties']\n",
        "    if ovary_cancer_mols[p]['max_phase'] == None:\n",
        "        ovary_cancer_mols[p]['max_phase'] = float('nan')\n",
        "        \n",
        "    list1['max_phase'] = ovary_cancer_mols[p]['max_phase']\n",
        "    list1['active'] = 0\n",
        "    for j in range(0,24):\n",
        "        a[j].append(list1[arr_labels[j]])\n",
        "    count += 1\n",
        "\n",
        "\n",
        "def makeDict(list1, list2):\n",
        "    new_Dict = {}\n",
        "    for i in range(0,24):\n",
        "        new_Dict[list1[i]] = list2[i]\n",
        "    return new_Dict\n",
        "\n",
        "for i in range(31, 31 + 15):\n",
        "    index2.append(i)\n",
        "    \n",
        "data3 = pd.DataFrame(data = makeDict(arr_labels, a), index = index2)\n",
        "data3 = data3[arr_labels]\n",
        "data3.head()"
      ],
      "execution_count": 0,
      "outputs": [
        {
          "output_type": "execute_result",
          "data": {
            "text/html": [
              "<div>\n",
              "<style scoped>\n",
              "    .dataframe tbody tr th:only-of-type {\n",
              "        vertical-align: middle;\n",
              "    }\n",
              "\n",
              "    .dataframe tbody tr th {\n",
              "        vertical-align: top;\n",
              "    }\n",
              "\n",
              "    .dataframe thead th {\n",
              "        text-align: right;\n",
              "    }\n",
              "</style>\n",
              "<table border=\"1\" class=\"dataframe\">\n",
              "  <thead>\n",
              "    <tr style=\"text-align: right;\">\n",
              "      <th></th>\n",
              "      <th>acd_logd</th>\n",
              "      <th>acd_logp</th>\n",
              "      <th>acd_most_apka</th>\n",
              "      <th>acd_most_bpka</th>\n",
              "      <th>alogp</th>\n",
              "      <th>aromatic_rings</th>\n",
              "      <th>full_molformula</th>\n",
              "      <th>full_mwt</th>\n",
              "      <th>hba</th>\n",
              "      <th>hba_lipinski</th>\n",
              "      <th>...</th>\n",
              "      <th>mw_freebase</th>\n",
              "      <th>mw_monoisotopic</th>\n",
              "      <th>num_lipinski_ro5_violations</th>\n",
              "      <th>num_ro5_violations</th>\n",
              "      <th>psa</th>\n",
              "      <th>qed_weighted</th>\n",
              "      <th>ro3_pass</th>\n",
              "      <th>rtb</th>\n",
              "      <th>max_phase</th>\n",
              "      <th>active</th>\n",
              "    </tr>\n",
              "  </thead>\n",
              "  <tbody>\n",
              "    <tr>\n",
              "      <th>31</th>\n",
              "      <td>-1.68</td>\n",
              "      <td>1.4</td>\n",
              "      <td>3.48</td>\n",
              "      <td>None</td>\n",
              "      <td>1.31</td>\n",
              "      <td>1.0</td>\n",
              "      <td>C9H8O4</td>\n",
              "      <td>180.16</td>\n",
              "      <td>3.0</td>\n",
              "      <td>4.0</td>\n",
              "      <td>...</td>\n",
              "      <td>180.16</td>\n",
              "      <td>180.0423</td>\n",
              "      <td>0.0</td>\n",
              "      <td>0.0</td>\n",
              "      <td>63.6</td>\n",
              "      <td>0.55</td>\n",
              "      <td>N</td>\n",
              "      <td>2.0</td>\n",
              "      <td>4</td>\n",
              "      <td>0</td>\n",
              "    </tr>\n",
              "    <tr>\n",
              "      <th>32</th>\n",
              "      <td>-0.32</td>\n",
              "      <td>0.32</td>\n",
              "      <td>8.92</td>\n",
              "      <td>7.65</td>\n",
              "      <td>1.85</td>\n",
              "      <td>3.0</td>\n",
              "      <td>C23H23N3O5</td>\n",
              "      <td>421.45</td>\n",
              "      <td>8.0</td>\n",
              "      <td>8.0</td>\n",
              "      <td>...</td>\n",
              "      <td>421.45</td>\n",
              "      <td>421.1638</td>\n",
              "      <td>0.0</td>\n",
              "      <td>0.0</td>\n",
              "      <td>104.89</td>\n",
              "      <td>0.49</td>\n",
              "      <td>N</td>\n",
              "      <td>3.0</td>\n",
              "      <td>4</td>\n",
              "      <td>0</td>\n",
              "    </tr>\n",
              "    <tr>\n",
              "      <th>33</th>\n",
              "      <td>3.95</td>\n",
              "      <td>3.95</td>\n",
              "      <td>11.9</td>\n",
              "      <td>None</td>\n",
              "      <td>3.74</td>\n",
              "      <td>3.0</td>\n",
              "      <td>C47H51NO14</td>\n",
              "      <td>853.92</td>\n",
              "      <td>14.0</td>\n",
              "      <td>15.0</td>\n",
              "      <td>...</td>\n",
              "      <td>853.92</td>\n",
              "      <td>853.331</td>\n",
              "      <td>2.0</td>\n",
              "      <td>2.0</td>\n",
              "      <td>221.29</td>\n",
              "      <td>0.13</td>\n",
              "      <td>N</td>\n",
              "      <td>10.0</td>\n",
              "      <td>4</td>\n",
              "      <td>0</td>\n",
              "    </tr>\n",
              "    <tr>\n",
              "      <th>34</th>\n",
              "      <td>None</td>\n",
              "      <td>None</td>\n",
              "      <td>None</td>\n",
              "      <td>None</td>\n",
              "      <td>None</td>\n",
              "      <td>NaN</td>\n",
              "      <td>H6Cl2N2Pt+2</td>\n",
              "      <td>300.05</td>\n",
              "      <td>NaN</td>\n",
              "      <td>NaN</td>\n",
              "      <td>...</td>\n",
              "      <td>300.05</td>\n",
              "      <td>298.9545</td>\n",
              "      <td>NaN</td>\n",
              "      <td>NaN</td>\n",
              "      <td>None</td>\n",
              "      <td>None</td>\n",
              "      <td>None</td>\n",
              "      <td>NaN</td>\n",
              "      <td>4</td>\n",
              "      <td>0</td>\n",
              "    </tr>\n",
              "    <tr>\n",
              "      <th>35</th>\n",
              "      <td>2.34</td>\n",
              "      <td>2.34</td>\n",
              "      <td>9.48</td>\n",
              "      <td>0.5</td>\n",
              "      <td>2.47</td>\n",
              "      <td>1.0</td>\n",
              "      <td>C14H20N2O3</td>\n",
              "      <td>264.32</td>\n",
              "      <td>3.0</td>\n",
              "      <td>5.0</td>\n",
              "      <td>...</td>\n",
              "      <td>264.32</td>\n",
              "      <td>264.1474</td>\n",
              "      <td>0.0</td>\n",
              "      <td>0.0</td>\n",
              "      <td>78.43</td>\n",
              "      <td>0.38</td>\n",
              "      <td>N</td>\n",
              "      <td>8.0</td>\n",
              "      <td>4</td>\n",
              "      <td>0</td>\n",
              "    </tr>\n",
              "  </tbody>\n",
              "</table>\n",
              "<p>5 rows × 24 columns</p>\n",
              "</div>"
            ],
            "text/plain": [
              "   acd_logd acd_logp acd_most_apka acd_most_bpka alogp  aromatic_rings  \\\n",
              "31    -1.68      1.4          3.48          None  1.31             1.0   \n",
              "32    -0.32     0.32          8.92          7.65  1.85             3.0   \n",
              "33     3.95     3.95          11.9          None  3.74             3.0   \n",
              "34     None     None          None          None  None             NaN   \n",
              "35     2.34     2.34          9.48           0.5  2.47             1.0   \n",
              "\n",
              "   full_molformula full_mwt   hba  hba_lipinski  ...    mw_freebase  \\\n",
              "31          C9H8O4   180.16   3.0           4.0  ...         180.16   \n",
              "32      C23H23N3O5   421.45   8.0           8.0  ...         421.45   \n",
              "33      C47H51NO14   853.92  14.0          15.0  ...         853.92   \n",
              "34     H6Cl2N2Pt+2   300.05   NaN           NaN  ...         300.05   \n",
              "35      C14H20N2O3   264.32   3.0           5.0  ...         264.32   \n",
              "\n",
              "    mw_monoisotopic  num_lipinski_ro5_violations num_ro5_violations     psa  \\\n",
              "31         180.0423                          0.0                0.0    63.6   \n",
              "32         421.1638                          0.0                0.0  104.89   \n",
              "33          853.331                          2.0                2.0  221.29   \n",
              "34         298.9545                          NaN                NaN    None   \n",
              "35         264.1474                          0.0                0.0   78.43   \n",
              "\n",
              "   qed_weighted  ro3_pass   rtb max_phase active  \n",
              "31         0.55         N   2.0         4      0  \n",
              "32         0.49         N   3.0         4      0  \n",
              "33         0.13         N  10.0         4      0  \n",
              "34         None      None   NaN         4      0  \n",
              "35         0.38         N   8.0         4      0  \n",
              "\n",
              "[5 rows x 24 columns]"
            ]
          },
          "metadata": {
            "tags": []
          },
          "execution_count": 4
        }
      ]
    },
    {
      "metadata": {
        "id": "uaY2pf2AX3sL",
        "colab_type": "code",
        "outputId": "502f88cf-1763-40e6-a575-4c7c61800f50",
        "colab": {
          "base_uri": "https://localhost:8080/",
          "height": 253
        }
      },
      "cell_type": "code",
      "source": [
        "import pandas as pd\n",
        "\n",
        "\n",
        "\n",
        "    \n",
        "arr = lung_cancer_mols[0]['molecule_properties']\n",
        "for i in range(0,1):\n",
        "    arr['max_phase'] = lung_cancer_mols[i]['max_phase']\n",
        "arr['active'] = 1\n",
        "arr_labels = []\n",
        "for key in arr.keys():\n",
        "    arr_labels.append(key)\n",
        "a = []\n",
        "for i in range(24):\n",
        "    a.append([])   \n",
        "    \n",
        "\n",
        "\n",
        "for q in range(0,24):\n",
        "    a[q].append(arr[arr_labels[q]])\n",
        "    \n",
        "\n",
        "\n",
        "index = []\n",
        "for p in range(1,30):\n",
        "    count = 1\n",
        "    list1 = lung_cancer_mols[p]['molecule_properties']\n",
        "    list1['max_phase'] = lung_cancer_mols[p]['max_phase']\n",
        "    list1['active'] = 1\n",
        "    for j in range(0,24):\n",
        "        a[j].append(list1[arr_labels[j]])\n",
        "    count += 1\n",
        "\n",
        "\n",
        "def makeDict(list1, list2):\n",
        "    new_Dict = {}\n",
        "    for i in range(0,24):\n",
        "        new_Dict[list1[i]] = list2[i]\n",
        "    return new_Dict\n",
        "for i in range(1,31):\n",
        "    index.append(i)\n",
        "\n",
        "data2 = pd.DataFrame(data = makeDict(arr_labels, a),index = index, copy = True)\n",
        "data2 = data2[arr_labels]\n",
        "data2.head()"
      ],
      "execution_count": 0,
      "outputs": [
        {
          "output_type": "execute_result",
          "data": {
            "text/html": [
              "<div>\n",
              "<style scoped>\n",
              "    .dataframe tbody tr th:only-of-type {\n",
              "        vertical-align: middle;\n",
              "    }\n",
              "\n",
              "    .dataframe tbody tr th {\n",
              "        vertical-align: top;\n",
              "    }\n",
              "\n",
              "    .dataframe thead th {\n",
              "        text-align: right;\n",
              "    }\n",
              "</style>\n",
              "<table border=\"1\" class=\"dataframe\">\n",
              "  <thead>\n",
              "    <tr style=\"text-align: right;\">\n",
              "      <th></th>\n",
              "      <th>acd_logd</th>\n",
              "      <th>acd_logp</th>\n",
              "      <th>acd_most_apka</th>\n",
              "      <th>acd_most_bpka</th>\n",
              "      <th>alogp</th>\n",
              "      <th>aromatic_rings</th>\n",
              "      <th>full_molformula</th>\n",
              "      <th>full_mwt</th>\n",
              "      <th>hba</th>\n",
              "      <th>hba_lipinski</th>\n",
              "      <th>...</th>\n",
              "      <th>mw_freebase</th>\n",
              "      <th>mw_monoisotopic</th>\n",
              "      <th>num_lipinski_ro5_violations</th>\n",
              "      <th>num_ro5_violations</th>\n",
              "      <th>psa</th>\n",
              "      <th>qed_weighted</th>\n",
              "      <th>ro3_pass</th>\n",
              "      <th>rtb</th>\n",
              "      <th>max_phase</th>\n",
              "      <th>active</th>\n",
              "    </tr>\n",
              "  </thead>\n",
              "  <tbody>\n",
              "    <tr>\n",
              "      <th>1</th>\n",
              "      <td>-0.62</td>\n",
              "      <td>0.57</td>\n",
              "      <td>None</td>\n",
              "      <td>8</td>\n",
              "      <td>1.85</td>\n",
              "      <td>1.0</td>\n",
              "      <td>C10H14N2</td>\n",
              "      <td>162.24</td>\n",
              "      <td>2.0</td>\n",
              "      <td>2.0</td>\n",
              "      <td>...</td>\n",
              "      <td>162.24</td>\n",
              "      <td>162.1157</td>\n",
              "      <td>0.0</td>\n",
              "      <td>0.0</td>\n",
              "      <td>16.13</td>\n",
              "      <td>0.63</td>\n",
              "      <td>Y</td>\n",
              "      <td>1.0</td>\n",
              "      <td>4</td>\n",
              "      <td>1</td>\n",
              "    </tr>\n",
              "    <tr>\n",
              "      <th>2</th>\n",
              "      <td>5.88</td>\n",
              "      <td>5.88</td>\n",
              "      <td>9.98</td>\n",
              "      <td>1.55</td>\n",
              "      <td>6.86</td>\n",
              "      <td>1.0</td>\n",
              "      <td>C26H33NO2</td>\n",
              "      <td>391.56</td>\n",
              "      <td>2.0</td>\n",
              "      <td>3.0</td>\n",
              "      <td>...</td>\n",
              "      <td>391.56</td>\n",
              "      <td>391.2511</td>\n",
              "      <td>1.0</td>\n",
              "      <td>1.0</td>\n",
              "      <td>49.33</td>\n",
              "      <td>0.32</td>\n",
              "      <td>N</td>\n",
              "      <td>6.0</td>\n",
              "      <td>3</td>\n",
              "      <td>1</td>\n",
              "    </tr>\n",
              "    <tr>\n",
              "      <th>3</th>\n",
              "      <td>4.26</td>\n",
              "      <td>4.26</td>\n",
              "      <td>10.4</td>\n",
              "      <td>None</td>\n",
              "      <td>6.18</td>\n",
              "      <td>0.0</td>\n",
              "      <td>C51H79NO13</td>\n",
              "      <td>914.19</td>\n",
              "      <td>13.0</td>\n",
              "      <td>14.0</td>\n",
              "      <td>...</td>\n",
              "      <td>914.19</td>\n",
              "      <td>913.5551</td>\n",
              "      <td>3.0</td>\n",
              "      <td>3.0</td>\n",
              "      <td>195.43</td>\n",
              "      <td>0.16</td>\n",
              "      <td>N</td>\n",
              "      <td>6.0</td>\n",
              "      <td>4</td>\n",
              "      <td>1</td>\n",
              "    </tr>\n",
              "    <tr>\n",
              "      <th>4</th>\n",
              "      <td>-1.47</td>\n",
              "      <td>0.24</td>\n",
              "      <td>7.35</td>\n",
              "      <td>8.68</td>\n",
              "      <td>0</td>\n",
              "      <td>2.0</td>\n",
              "      <td>C27H29NO11</td>\n",
              "      <td>543.53</td>\n",
              "      <td>12.0</td>\n",
              "      <td>12.0</td>\n",
              "      <td>...</td>\n",
              "      <td>543.53</td>\n",
              "      <td>543.1741</td>\n",
              "      <td>3.0</td>\n",
              "      <td>3.0</td>\n",
              "      <td>206.07</td>\n",
              "      <td>0.24</td>\n",
              "      <td>N</td>\n",
              "      <td>5.0</td>\n",
              "      <td>4</td>\n",
              "      <td>1</td>\n",
              "    </tr>\n",
              "    <tr>\n",
              "      <th>5</th>\n",
              "      <td>-1.68</td>\n",
              "      <td>1.4</td>\n",
              "      <td>3.48</td>\n",
              "      <td>None</td>\n",
              "      <td>1.31</td>\n",
              "      <td>1.0</td>\n",
              "      <td>C9H8O4</td>\n",
              "      <td>180.16</td>\n",
              "      <td>3.0</td>\n",
              "      <td>4.0</td>\n",
              "      <td>...</td>\n",
              "      <td>180.16</td>\n",
              "      <td>180.0423</td>\n",
              "      <td>0.0</td>\n",
              "      <td>0.0</td>\n",
              "      <td>63.6</td>\n",
              "      <td>0.55</td>\n",
              "      <td>N</td>\n",
              "      <td>2.0</td>\n",
              "      <td>4</td>\n",
              "      <td>1</td>\n",
              "    </tr>\n",
              "  </tbody>\n",
              "</table>\n",
              "<p>5 rows × 24 columns</p>\n",
              "</div>"
            ],
            "text/plain": [
              "  acd_logd acd_logp acd_most_apka acd_most_bpka alogp  aromatic_rings  \\\n",
              "1    -0.62     0.57          None             8  1.85             1.0   \n",
              "2     5.88     5.88          9.98          1.55  6.86             1.0   \n",
              "3     4.26     4.26          10.4          None  6.18             0.0   \n",
              "4    -1.47     0.24          7.35          8.68     0             2.0   \n",
              "5    -1.68      1.4          3.48          None  1.31             1.0   \n",
              "\n",
              "  full_molformula full_mwt   hba  hba_lipinski  ...    mw_freebase  \\\n",
              "1        C10H14N2   162.24   2.0           2.0  ...         162.24   \n",
              "2       C26H33NO2   391.56   2.0           3.0  ...         391.56   \n",
              "3      C51H79NO13   914.19  13.0          14.0  ...         914.19   \n",
              "4      C27H29NO11   543.53  12.0          12.0  ...         543.53   \n",
              "5          C9H8O4   180.16   3.0           4.0  ...         180.16   \n",
              "\n",
              "   mw_monoisotopic  num_lipinski_ro5_violations num_ro5_violations     psa  \\\n",
              "1         162.1157                          0.0                0.0   16.13   \n",
              "2         391.2511                          1.0                1.0   49.33   \n",
              "3         913.5551                          3.0                3.0  195.43   \n",
              "4         543.1741                          3.0                3.0  206.07   \n",
              "5         180.0423                          0.0                0.0    63.6   \n",
              "\n",
              "  qed_weighted  ro3_pass  rtb max_phase active  \n",
              "1         0.63         Y  1.0         4      1  \n",
              "2         0.32         N  6.0         3      1  \n",
              "3         0.16         N  6.0         4      1  \n",
              "4         0.24         N  5.0         4      1  \n",
              "5         0.55         N  2.0         4      1  \n",
              "\n",
              "[5 rows x 24 columns]"
            ]
          },
          "metadata": {
            "tags": []
          },
          "execution_count": 5
        }
      ]
    },
    {
      "metadata": {
        "id": "pUUMqqwKW8rJ",
        "colab_type": "code",
        "colab": {}
      },
      "cell_type": "code",
      "source": [
        "data2 = pd.DataFrame(data = makeDict(arr_labels, a),index = index)\n"
      ],
      "execution_count": 0,
      "outputs": []
    },
    {
      "metadata": {
        "id": "E7t9vNkEVey6",
        "colab_type": "code",
        "outputId": "9df37ae5-966e-46c8-c5cc-cbc2b6a877a0",
        "colab": {
          "base_uri": "https://localhost:8080/",
          "height": 85
        }
      },
      "cell_type": "code",
      "source": [
        "\n",
        "\n",
        "data2 = data2.append(data3)\n",
        "print(len(data2))\n",
        "data2.drop(labels = ['max_phase', 'full_molformula'],axis = 1,inplace= True)\n",
        "data2['molecular_species'].replace(to_replace=['NEUTRAL'], value = 0.5, inplace = True)\n",
        "data2['molecular_species'].replace(to_replace=['BASE'], value = 1,inplace=True)\n",
        "data2['ro3_pass'].replace(to_replace=['Y'], value = 1,inplace=True)\n",
        "data2['ro3_pass'].replace(to_replace = ['N'], value = 0, inplace=True)\n",
        "data2['molecular_species'].replace(to_replace=['ACID'], value = 0,inplace=True)\n",
        "data2 = data2.apply(pd.to_numeric, errors = 'ignore')\n",
        "\n",
        "y = data2['active'].values\n",
        "\n",
        "data2.drop(labels = ['active'],axis = 1,inplace= True)\n",
        "X = data2.iloc[::].values\n",
        "\n"
      ],
      "execution_count": 0,
      "outputs": [
        {
          "output_type": "stream",
          "text": [
            "45\n",
            "45\n",
            "[1 1 1 1 1 1 1 1 1 1 1 1 1 1 1 1 1 1 1 1 1 1 1 1 1 1 1 1 1 1 0 0 0 0 0 0 0\n",
            " 0 0 0 0 0 0 0 0]\n"
          ],
          "name": "stdout"
        }
      ]
    },
    {
      "metadata": {
        "id": "3F7MIA0eViYq",
        "colab_type": "code",
        "outputId": "31393698-ac6c-41aa-b776-4f545a4a25fa",
        "colab": {
          "base_uri": "https://localhost:8080/",
          "height": 102
        }
      },
      "cell_type": "code",
      "source": [
        "from statistics import median\n",
        "import numpy as np\n",
        "import math\n",
        "for i in range(0,45):\n",
        "    for j in range(0, len(X[i])):\n",
        "        lst = []\n",
        "        if math.isnan(X[i][j]):\n",
        "            for b in range(0,45):\n",
        "                if math.isnan(X[b][j]) == False:\n",
        "                    \n",
        "                    lst.append(X[b][j])\n",
        "            X[i][j] = median(lst)\n",
        "            \n",
        "for i in range(0,45):\n",
        "    for j in range(0, len(X[i])):\n",
        "        X[i][j] = np.float32(X[i][j])\n",
        "def median(lst):\n",
        "    sortedLst = sorted(lst)\n",
        "    lstLen = len(lst)\n",
        "    index = (lstLen - 1) // 2\n",
        "\n",
        "    if (lstLen % 2):\n",
        "        return sortedLst[index]\n",
        "    else:\n",
        "        return (sortedLst[index] + sortedLst[index + 1])/2.0\n",
        " \n"
      ],
      "execution_count": 0,
      "outputs": [
        {
          "output_type": "stream",
          "text": [
            "[ -1.67999995   1.39999998   3.48000002   7.6500001    1.30999994\n",
            "   1.         180.16000366   3.           4.           1.\n",
            "   1.          13.           0.         180.16000366 180.04229736\n",
            "   0.           0.          63.59999847   0.55000001   0.\n",
            "   2.        ]\n"
          ],
          "name": "stdout"
        }
      ]
    },
    {
      "metadata": {
        "id": "Cjkx1JmjVjgy",
        "colab_type": "code",
        "colab": {}
      },
      "cell_type": "code",
      "source": [
        "X_train, X_test, y_train, y_test = train_test_split(X, y, test_size = 0.3, random_state = 0)"
      ],
      "execution_count": 0,
      "outputs": []
    },
    {
      "metadata": {
        "id": "KwNtWD08VnHx",
        "colab_type": "code",
        "outputId": "2a4f77ab-1b17-48d0-ec2e-5afd22fc93dd",
        "colab": {
          "base_uri": "https://localhost:8080/",
          "height": 136
        }
      },
      "cell_type": "code",
      "source": [
        "rf = RandomForestClassifier(n_estimators = 50)\n",
        "\n",
        "rf.fit(X_train,y_train)"
      ],
      "execution_count": 0,
      "outputs": [
        {
          "output_type": "execute_result",
          "data": {
            "text/plain": [
              "RandomForestClassifier(bootstrap=True, class_weight=None, criterion='gini',\n",
              "            max_depth=None, max_features='auto', max_leaf_nodes=None,\n",
              "            min_impurity_decrease=0.0, min_impurity_split=None,\n",
              "            min_samples_leaf=1, min_samples_split=2,\n",
              "            min_weight_fraction_leaf=0.0, n_estimators=50, n_jobs=1,\n",
              "            oob_score=False, random_state=None, verbose=0,\n",
              "            warm_start=False)"
            ]
          },
          "metadata": {
            "tags": []
          },
          "execution_count": 10
        }
      ]
    },
    {
      "metadata": {
        "id": "TIga3TKlV88O",
        "colab_type": "code",
        "colab": {}
      },
      "cell_type": "code",
      "source": [
        "pred = rf.predict(X_test)"
      ],
      "execution_count": 0,
      "outputs": []
    },
    {
      "metadata": {
        "id": "6CwTulNnV_Fj",
        "colab_type": "code",
        "colab": {}
      },
      "cell_type": "code",
      "source": [
        "real = y_test\n",
        "count = 0"
      ],
      "execution_count": 0,
      "outputs": []
    },
    {
      "metadata": {
        "id": "3t2nTYoZWBjs",
        "colab_type": "code",
        "colab": {}
      },
      "cell_type": "code",
      "source": [
        "for i in range(len(pred)):\n",
        "    if pred[i] == real[i]:\n",
        "        count = count + 1"
      ],
      "execution_count": 0,
      "outputs": []
    },
    {
      "metadata": {
        "id": "seVTC6QzWFI3",
        "colab_type": "code",
        "colab": {}
      },
      "cell_type": "code",
      "source": [
        "real"
      ],
      "execution_count": 0,
      "outputs": []
    },
    {
      "metadata": {
        "id": "JAexVfgDWF4I",
        "colab_type": "code",
        "colab": {}
      },
      "cell_type": "code",
      "source": [
        "pred"
      ],
      "execution_count": 0,
      "outputs": []
    },
    {
      "metadata": {
        "id": "PTyRMvgxWISA",
        "colab_type": "code",
        "colab": {}
      },
      "cell_type": "code",
      "source": [
        "from sklearn.metrics import roc_auc_score"
      ],
      "execution_count": 0,
      "outputs": []
    },
    {
      "metadata": {
        "id": "LiqyQ-_XWL4B",
        "colab_type": "code",
        "outputId": "5a22399d-e5c2-49dc-8b2a-95b90e48699a",
        "colab": {
          "base_uri": "https://localhost:8080/",
          "height": 34
        }
      },
      "cell_type": "code",
      "source": [
        "print(roc_auc_score(real, pred))"
      ],
      "execution_count": 0,
      "outputs": [
        {
          "output_type": "stream",
          "text": [
            "0.16666666666666666\n"
          ],
          "name": "stdout"
        }
      ]
    }
  ]
}