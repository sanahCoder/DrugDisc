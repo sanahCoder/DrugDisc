{
 "cells": [
  {
   "cell_type": "code",
   "execution_count": 1,
   "metadata": {},
   "outputs": [
    {
     "name": "stderr",
     "output_type": "stream",
     "text": [
      "WARNING (theano.configdefaults): install mkl with `conda install mkl-service`: No module named 'mkl'\n"
     ]
    }
   ],
   "source": [
    "import pymc3 as pm\n",
    "\n",
    "%matplotlib inline\n",
    "\n",
    "import numpy as np\n",
    "import scipy as sp\n",
    "import pandas as pd\n",
    "import matplotlib.pyplot as plt\n",
    "import seaborn as sns\n",
    "\n",
    "from scipy.stats import norm\n",
    "\n",
    "sns.set_style('white')\n",
    "sns.set_context('talk')"
   ]
  },
  {
   "cell_type": "code",
   "execution_count": 2,
   "metadata": {},
   "outputs": [
    {
     "name": "stderr",
     "output_type": "stream",
     "text": [
      "/Users/fatema/anaconda2/envs/drugDisc/lib/python3.6/site-packages/grequests.py:21: MonkeyPatchWarning: Monkey-patching ssl after ssl has already been imported may lead to errors, including RecursionError on Python 3.6. It may also silently lead to incorrect behaviour on Python 3.7. Please monkey-patch earlier. See https://github.com/gevent/gevent/issues/1016. Modules that had direct imports (NOT patched): ['urllib3.contrib.pyopenssl (/Users/fatema/anaconda2/envs/drugDisc/lib/python3.6/site-packages/urllib3/contrib/pyopenssl.py)', 'urllib3.util (/Users/fatema/anaconda2/envs/drugDisc/lib/python3.6/site-packages/urllib3/util/__init__.py)']. \n",
      "  curious_george.patch_all(thread=False, select=False)\n"
     ]
    }
   ],
   "source": [
    "from chembl_webresource_client.new_client import new_client\n",
    "drug_indication = new_client.drug_indication\n",
    "molecules = new_client.molecule\n",
    "lung_cancer_ind = drug_indication.filter(efo_term__icontains=\"LUNG CARCINOMA\")\n",
    "lung_cancer_mols = molecules.filter(molecule_chembl_id__in=[x['molecule_chembl_id'] for x in lung_cancer_ind])"
   ]
  },
  {
   "cell_type": "code",
   "execution_count": 3,
   "metadata": {},
   "outputs": [
    {
     "data": {
      "text/plain": [
       "[{'atc_classifications': ['N07BA01'], 'availability_type': '2', 'biotherapeutic': None, 'black_box_warning': '0', 'chebi_par_id': 17688, 'chirality': '1', 'cross_references': [{'xref_id': 'nicotine', 'xref_name': 'nicotine', 'xref_src': 'DailyMed'}, {'xref_id': 'nicotine%20polacrilex', 'xref_name': 'nicotine polacrilex', 'xref_src': 'DailyMed'}, {'xref_id': '144209012', 'xref_name': 'SID: 144209012', 'xref_src': 'PubChem'}, {'xref_id': '144210494', 'xref_name': 'SID: 144210494', 'xref_src': 'PubChem'}, {'xref_id': '17389805', 'xref_name': 'SID: 17389805', 'xref_src': 'PubChem'}, {'xref_id': '26752744', 'xref_name': 'SID: 26752744', 'xref_src': 'PubChem'}, {'xref_id': '26752745', 'xref_name': 'SID: 26752745', 'xref_src': 'PubChem'}, {'xref_id': '26752746', 'xref_name': 'SID: 26752746', 'xref_src': 'PubChem'}, {'xref_id': '50105392', 'xref_name': 'SID: 50105392', 'xref_src': 'PubChem'}, {'xref_id': '50105393', 'xref_name': 'SID: 50105393', 'xref_src': 'PubChem'}, {'xref_id': '56314824', 'xref_name': 'SID: 56314824', 'xref_src': 'PubChem'}, {'xref_id': '90341453', 'xref_name': 'SID: 90341453', 'xref_src': 'PubChem'}, {'xref_id': 'Nicotine', 'xref_name': None, 'xref_src': 'Wikipedia'}], 'dosed_ingredient': True, 'first_approval': 1984, 'first_in_class': '0', 'helm_notation': None, 'indication_class': 'Smoking Cessation Adjunct', 'inorganic_flag': '0', 'max_phase': 4, 'molecule_chembl_id': 'CHEMBL3', 'molecule_hierarchy': {'molecule_chembl_id': 'CHEMBL3', 'parent_chembl_id': 'CHEMBL3'}, 'molecule_properties': {'acd_logd': '-0.62', 'acd_logp': '0.57', 'acd_most_apka': None, 'acd_most_bpka': '8', 'alogp': '1.85', 'aromatic_rings': 1, 'full_molformula': 'C10H14N2', 'full_mwt': '162.24', 'hba': 2, 'hba_lipinski': 2, 'hbd': 0, 'hbd_lipinski': 0, 'heavy_atoms': 12, 'molecular_species': 'NEUTRAL', 'mw_freebase': '162.24', 'mw_monoisotopic': '162.1157', 'num_lipinski_ro5_violations': 0, 'num_ro5_violations': 0, 'psa': '16.13', 'qed_weighted': '0.63', 'ro3_pass': 'Y', 'rtb': 1}, 'molecule_structures': {'canonical_smiles': 'CN1CCC[C@H]1c2cccnc2', 'standard_inchi': 'InChI=1S/C10H14N2/c1-12-7-3-5-10(12)9-4-2-6-11-8-9/h2,4,6,8,10H,3,5,7H2,1H3/t10-/m0/s1', 'standard_inchi_key': 'SNICXCGAKADSCV-JTQLQIEISA-N'}, 'molecule_synonyms': [{'molecule_synonym': 'Habitrol', 'syn_type': 'TRADE_NAME', 'synonyms': 'HABITROL'}, {'molecule_synonym': 'Nicabate', 'syn_type': 'TRADE_NAME', 'synonyms': 'NICABATE'}, {'molecule_synonym': 'Nicoderm', 'syn_type': 'TRADE_NAME', 'synonyms': 'NICODERM'}, {'molecule_synonym': 'Nicoderm CQ', 'syn_type': 'TRADE_NAME', 'synonyms': 'NICODERM CQ'}, {'molecule_synonym': 'Nicopass', 'syn_type': 'TRADE_NAME', 'synonyms': 'NICOPASS'}, {'molecule_synonym': 'Nicopatch', 'syn_type': 'TRADE_NAME', 'synonyms': 'NICOPATCH'}, {'molecule_synonym': 'Nicorette Invisi', 'syn_type': 'TRADE_NAME', 'synonyms': 'NICORETTE INVISI'}, {'molecule_synonym': 'Nicotine', 'syn_type': 'ATC', 'synonyms': 'NICOTINE'}, {'molecule_synonym': 'Nicotine', 'syn_type': 'BNF', 'synonyms': 'NICOTINE'}, {'molecule_synonym': 'Nicotine', 'syn_type': 'FDA', 'synonyms': 'NICOTINE'}, {'molecule_synonym': 'Nicotine', 'syn_type': 'MERCK_INDEX', 'synonyms': 'NICOTINE'}, {'molecule_synonym': 'Nicotine', 'syn_type': 'TRADE_NAME', 'synonyms': 'NICOTINE'}, {'molecule_synonym': 'Nicotine', 'syn_type': 'USP', 'synonyms': 'NICOTINE'}, {'molecule_synonym': 'Nicotinell Classic', 'syn_type': 'TRADE_NAME', 'synonyms': 'NICOTINELL CLASSIC'}, {'molecule_synonym': 'Nicotinell Support', 'syn_type': 'TRADE_NAME', 'synonyms': 'NICOTINELL SUPPORT'}, {'molecule_synonym': 'Nicotinell TTS 10', 'syn_type': 'TRADE_NAME', 'synonyms': 'NICOTINELL TTS 10'}, {'molecule_synonym': 'Nicotinell TTS 20', 'syn_type': 'TRADE_NAME', 'synonyms': 'NICOTINELL TTS 20'}, {'molecule_synonym': 'Nicotinell TTS 30', 'syn_type': 'TRADE_NAME', 'synonyms': 'NICOTINELL TTS 30'}, {'molecule_synonym': 'Nicotrol', 'syn_type': 'TRADE_NAME', 'synonyms': 'NICOTROL'}, {'molecule_synonym': 'Niquitin', 'syn_type': 'TRADE_NAME', 'synonyms': 'NIQUITIN'}, {'molecule_synonym': 'NiQuitin Clr', 'syn_type': 'TRADE_NAME', 'synonyms': 'NIQUITIN CLR'}, {'molecule_synonym': 'NiQuitin Minis Cherry', 'syn_type': 'TRADE_NAME', 'synonyms': 'NIQUITIN MINIS CHERRY'}, {'molecule_synonym': 'NiQuitin Minis Mint', 'syn_type': 'TRADE_NAME', 'synonyms': 'NIQUITIN MINIS MINT'}, {'molecule_synonym': 'NiQuitin Minis Orange', 'syn_type': 'TRADE_NAME', 'synonyms': 'NIQUITIN MINIS ORANGE'}, {'molecule_synonym': 'NiQuitin Mint', 'syn_type': 'TRADE_NAME', 'synonyms': 'NIQUITIN MINT'}, {'molecule_synonym': 'NiQuitin Pre-Quit', 'syn_type': 'TRADE_NAME', 'synonyms': 'NIQUITIN PRE-QUIT'}, {'molecule_synonym': 'NiQuitin Strips Mint', 'syn_type': 'TRADE_NAME', 'synonyms': 'NIQUITIN STRIPS MINT'}, {'molecule_synonym': 'Nicotine', 'syn_type': 'USAN', 'synonyms': 'Nicotine'}, {'molecule_synonym': 'Nicotrol Inhaler', 'syn_type': 'TRADE_NAME', 'synonyms': 'Nicotrol Inhaler'}, {'molecule_synonym': 'Nicotrol NS', 'syn_type': 'TRADE_NAME', 'synonyms': 'Nicotrol NS'}, {'molecule_synonym': 'Prostep', 'syn_type': 'TRADE_NAME', 'synonyms': 'PROSTEP'}, {'molecule_synonym': 'Stoppers', 'syn_type': 'TRADE_NAME', 'synonyms': 'STOPPERS'}, {'molecule_synonym': 'Stubit', 'syn_type': 'TRADE_NAME', 'synonyms': 'STUBIT'}], 'molecule_type': 'Small molecule', 'natural_product': '0', 'oral': True, 'parenteral': False, 'polymer_flag': False, 'pref_name': 'NICOTINE', 'prodrug': '0', 'structure_type': 'MOL', 'therapeutic_flag': True, 'topical': True, 'usan_stem': None, 'usan_stem_definition': None, 'usan_substem': None, 'usan_year': 1985, 'withdrawn_class': None, 'withdrawn_country': None, 'withdrawn_flag': False, 'withdrawn_reason': None, 'withdrawn_year': None}, {'atc_classifications': [], 'availability_type': '-1', 'biotherapeutic': None, 'black_box_warning': '0', 'chebi_par_id': 42588, 'chirality': '2', 'cross_references': [{'xref_id': '144204558', 'xref_name': 'SID: 144204558', 'xref_src': 'PubChem'}, {'xref_id': '144208187', 'xref_name': 'SID: 144208187', 'xref_src': 'PubChem'}, {'xref_id': '170466359', 'xref_name': 'SID: 170466359', 'xref_src': 'PubChem'}, {'xref_id': '17389243', 'xref_name': 'SID: 17389243', 'xref_src': 'PubChem'}, {'xref_id': '26752780', 'xref_name': 'SID: 26752780', 'xref_src': 'PubChem'}, {'xref_id': '26752781', 'xref_name': 'SID: 26752781', 'xref_src': 'PubChem'}, {'xref_id': '26752782', 'xref_name': 'SID: 26752782', 'xref_src': 'PubChem'}, {'xref_id': '26752783', 'xref_name': 'SID: 26752783', 'xref_src': 'PubChem'}, {'xref_id': '49718105', 'xref_name': 'SID: 49718105', 'xref_src': 'PubChem'}, {'xref_id': '50105427', 'xref_name': 'SID: 50105427', 'xref_src': 'PubChem'}, {'xref_id': '50105428', 'xref_name': 'SID: 50105428', 'xref_src': 'PubChem'}, {'xref_id': '50105430', 'xref_name': 'SID: 50105430', 'xref_src': 'PubChem'}, {'xref_id': '577595', 'xref_name': 'SID: 577595', 'xref_src': 'PubChem'}, {'xref_id': '90341414', 'xref_name': 'SID: 90341414', 'xref_src': 'PubChem'}, {'xref_id': '92763796', 'xref_name': 'SID: 92763796', 'xref_src': 'PubChem'}, {'xref_id': 'Fenretinide', 'xref_name': None, 'xref_src': 'Wikipedia'}], 'dosed_ingredient': True, 'first_approval': None, 'first_in_class': '0', 'helm_notation': None, 'indication_class': 'Antineoplastic', 'inorganic_flag': '0', 'max_phase': 3, 'molecule_chembl_id': 'CHEMBL7301', 'molecule_hierarchy': {'molecule_chembl_id': 'CHEMBL7301', 'parent_chembl_id': 'CHEMBL7301'}, 'molecule_properties': {'acd_logd': '5.88', 'acd_logp': '5.88', 'acd_most_apka': '9.98', 'acd_most_bpka': '1.55', 'alogp': '6.86', 'aromatic_rings': 1, 'full_molformula': 'C26H33NO2', 'full_mwt': '391.56', 'hba': 2, 'hba_lipinski': 3, 'hbd': 2, 'hbd_lipinski': 2, 'heavy_atoms': 29, 'molecular_species': 'NEUTRAL', 'mw_freebase': '391.56', 'mw_monoisotopic': '391.2511', 'num_lipinski_ro5_violations': 1, 'num_ro5_violations': 1, 'psa': '49.33', 'qed_weighted': '0.32', 'ro3_pass': 'N', 'rtb': 6}, 'molecule_structures': {'canonical_smiles': 'C\\\\C(=C/C=C/C(=C/C(=O)Nc1ccc(O)cc1)/C)\\\\C=C\\\\C2=C(C)CCCC2(C)C', 'standard_inchi': 'InChI=1S/C26H33NO2/c1-19(11-16-24-21(3)10-7-17-26(24,4)5)8-6-9-20(2)18-25(29)27-22-12-14-23(28)15-13-22/h6,8-9,11-16,18,28H,7,10,17H2,1-5H3,(H,27,29)/b9-6+,16-11+,19-8+,20-18+', 'standard_inchi_key': 'AKJHMTWEGVYYSE-FXILSDISSA-N'}, 'molecule_synonyms': [{'molecule_synonym': '4-HPR', 'syn_type': 'OTHER', 'synonyms': '4-HPR'}, {'molecule_synonym': 'Fenretinide', 'syn_type': 'INN', 'synonyms': 'FENRETINIDE'}, {'molecule_synonym': 'Fenretinide', 'syn_type': 'USAN', 'synonyms': 'FENRETINIDE'}, {'molecule_synonym': 'MCN-R-1967', 'syn_type': 'RESEARCH_CODE', 'synonyms': 'MCN-R-1967'}], 'molecule_type': 'Small molecule', 'natural_product': '1', 'oral': False, 'parenteral': False, 'polymer_flag': False, 'pref_name': 'FENRETINIDE', 'prodrug': '0', 'structure_type': 'MOL', 'therapeutic_flag': False, 'topical': False, 'usan_stem': '-retin-', 'usan_stem_definition': 'retinol derivatives', 'usan_substem': '-retin-', 'usan_year': 1984, 'withdrawn_class': None, 'withdrawn_country': None, 'withdrawn_flag': False, 'withdrawn_reason': None, 'withdrawn_year': None}, {'atc_classifications': ['L04AA10', 'S01XA23'], 'availability_type': '1', 'biotherapeutic': None, 'black_box_warning': '1', 'chebi_par_id': 9168, 'chirality': '1', 'cross_references': [{'xref_id': 'sirolimus', 'xref_name': 'sirolimus', 'xref_src': 'DailyMed'}, {'xref_id': '124886754', 'xref_name': 'SID: 124886754', 'xref_src': 'PubChem'}, {'xref_id': '144204421', 'xref_name': 'SID: 144204421', 'xref_src': 'PubChem'}, {'xref_id': '144206303', 'xref_name': 'SID: 144206303', 'xref_src': 'PubChem'}, {'xref_id': '50103901', 'xref_name': 'SID: 50103901', 'xref_src': 'PubChem'}, {'xref_id': 'Sirolimus', 'xref_name': None, 'xref_src': 'Wikipedia'}], 'dosed_ingredient': True, 'first_approval': 1999, 'first_in_class': '0', 'helm_notation': None, 'indication_class': 'Immunosuppressant', 'inorganic_flag': '0', 'max_phase': 4, 'molecule_chembl_id': 'CHEMBL413', 'molecule_hierarchy': {'molecule_chembl_id': 'CHEMBL413', 'parent_chembl_id': 'CHEMBL413'}, 'molecule_properties': {'acd_logd': '4.26', 'acd_logp': '4.26', 'acd_most_apka': '10.4', 'acd_most_bpka': None, 'alogp': '6.18', 'aromatic_rings': 0, 'full_molformula': 'C51H79NO13', 'full_mwt': '914.19', 'hba': 13, 'hba_lipinski': 14, 'hbd': 3, 'hbd_lipinski': 3, 'heavy_atoms': 65, 'molecular_species': 'NEUTRAL', 'mw_freebase': '914.19', 'mw_monoisotopic': '913.5551', 'num_lipinski_ro5_violations': 3, 'num_ro5_violations': 3, 'psa': '195.43', 'qed_weighted': '0.16', 'ro3_pass': 'N', 'rtb': 6}, 'molecule_structures': {'canonical_smiles': 'CO[C@@H]1C[C@H](C[C@@H](C)[C@@H]2CC(=O)[C@H](C)\\\\C=C(/C)\\\\[C@@H](O)[C@@H](OC)C(=O)[C@H](C)C[C@H](C)\\\\C=C\\\\C=C\\\\C=C(/C)\\\\[C@H](C[C@@H]3CC[C@@H](C)[C@@](O)(O3)C(=O)C(=O)N4CCCC[C@H]4C(=O)O2)OC)CC[C@H]1O', 'standard_inchi': 'InChI=1S/C51H79NO13/c1-30-16-12-11-13-17-31(2)42(61-8)28-38-21-19-36(7)51(60,65-38)48(57)49(58)52-23-15-14-18-39(52)50(59)64-43(33(4)26-37-20-22-40(53)44(27-37)62-9)29-41(54)32(3)25-35(6)46(56)47(63-10)45(55)34(5)24-30/h11-13,16-17,25,30,32-34,36-40,42-44,46-47,53,56,60H,14-15,18-24,26-29H2,1-10H3/b13-11+,16-12+,31-17+,35-25+/t30-,32-,33-,34-,36-,37+,38+,39+,40-,42+,43+,44-,46-,47+,51-/m1/s1', 'standard_inchi_key': 'QFJCIRLUMZQUOT-HPLJOQBZSA-N'}, 'molecule_synonyms': [{'molecule_synonym': 'AY-22989', 'syn_type': 'RESEARCH_CODE', 'synonyms': 'AY-22989'}, {'molecule_synonym': 'Rapamune', 'syn_type': 'TRADE_NAME', 'synonyms': 'RAPAMUNE'}, {'molecule_synonym': 'Rapamycin', 'syn_type': 'OTHER', 'synonyms': 'RAPAMYCIN'}, {'molecule_synonym': 'Sirolimus', 'syn_type': 'ATC', 'synonyms': 'SIROLIMUS'}, {'molecule_synonym': 'Sirolimus', 'syn_type': 'BAN', 'synonyms': 'SIROLIMUS'}, {'molecule_synonym': 'Sirolimus', 'syn_type': 'BNF', 'synonyms': 'SIROLIMUS'}, {'molecule_synonym': 'Sirolimus', 'syn_type': 'FDA', 'synonyms': 'SIROLIMUS'}, {'molecule_synonym': 'Sirolimus', 'syn_type': 'INN', 'synonyms': 'SIROLIMUS'}, {'molecule_synonym': 'Sirolimus', 'syn_type': 'TRADE_NAME', 'synonyms': 'SIROLIMUS'}, {'molecule_synonym': 'Sirolimus', 'syn_type': 'USAN', 'synonyms': 'SIROLIMUS'}, {'molecule_synonym': 'WY-090217', 'syn_type': 'RESEARCH_CODE', 'synonyms': 'WY-090217'}], 'molecule_type': 'Small molecule', 'natural_product': '1', 'oral': True, 'parenteral': False, 'polymer_flag': False, 'pref_name': 'SIROLIMUS', 'prodrug': '0', 'structure_type': 'MOL', 'therapeutic_flag': True, 'topical': False, 'usan_stem': '-imus', 'usan_stem_definition': 'immunosuppressives: immunosuppressant, rapamycin derivatives', 'usan_substem': '-imus(-rolimus)', 'usan_year': 1993, 'withdrawn_class': None, 'withdrawn_country': None, 'withdrawn_flag': False, 'withdrawn_reason': None, 'withdrawn_year': None}, {'atc_classifications': ['L01DB03'], 'availability_type': '1', 'biotherapeutic': None, 'black_box_warning': '1', 'chebi_par_id': 47898, 'chirality': '1', 'cross_references': [{'xref_id': 'epirubicin%20hydrochloride', 'xref_name': 'epirubicin hydrochloride', 'xref_src': 'DailyMed'}, {'xref_id': 'Epirubicin', 'xref_name': None, 'xref_src': 'Wikipedia'}], 'dosed_ingredient': True, 'first_approval': 1999, 'first_in_class': '0', 'helm_notation': None, 'indication_class': 'Antineoplastic', 'inorganic_flag': '0', 'max_phase': 4, 'molecule_chembl_id': 'CHEMBL417', 'molecule_hierarchy': {'molecule_chembl_id': 'CHEMBL417', 'parent_chembl_id': 'CHEMBL417'}, 'molecule_properties': {'acd_logd': '-1.47', 'acd_logp': '0.24', 'acd_most_apka': '7.35', 'acd_most_bpka': '8.68', 'alogp': '0', 'aromatic_rings': 2, 'full_molformula': 'C27H29NO11', 'full_mwt': '543.53', 'hba': 12, 'hba_lipinski': 12, 'hbd': 6, 'hbd_lipinski': 7, 'heavy_atoms': 39, 'molecular_species': 'BASE', 'mw_freebase': '543.53', 'mw_monoisotopic': '543.1741', 'num_lipinski_ro5_violations': 3, 'num_ro5_violations': 3, 'psa': '206.07', 'qed_weighted': '0.24', 'ro3_pass': 'N', 'rtb': 5}, 'molecule_structures': {'canonical_smiles': 'COc1cccc2C(=O)c3c(O)c4C[C@](O)(C[C@H](O[C@H]5C[C@H](N)[C@@H](O)[C@H](C)O5)c4c(O)c3C(=O)c12)C(=O)CO', 'standard_inchi': 'InChI=1S/C27H29NO11/c1-10-22(31)13(28)6-17(38-10)39-15-8-27(36,16(30)9-29)7-12-19(15)26(35)21-20(24(12)33)23(32)11-4-3-5-14(37-2)18(11)25(21)34/h3-5,10,13,15,17,22,29,31,33,35-36H,6-9,28H2,1-2H3/t10-,13-,15-,17-,22-,27-/m0/s1', 'standard_inchi_key': 'AOJJSUZBOXZQNB-VTZDEGQISA-N'}, 'molecule_synonyms': [{'molecule_synonym': 'Epirubicin', 'syn_type': 'ATC', 'synonyms': 'EPIRUBICIN'}, {'molecule_synonym': 'Epirubicin', 'syn_type': 'BAN', 'synonyms': 'EPIRUBICIN'}, {'molecule_synonym': 'Epirubicin', 'syn_type': 'INN', 'synonyms': 'EPIRUBICIN'}, {'molecule_synonym': 'Ellence', 'syn_type': 'OTHER', 'synonyms': 'Ellence'}, {'molecule_synonym': 'Epirubicin', 'syn_type': 'FDA', 'synonyms': 'Epirubicin'}], 'molecule_type': 'Small molecule', 'natural_product': '1', 'oral': False, 'parenteral': True, 'polymer_flag': False, 'pref_name': 'EPIRUBICIN', 'prodrug': '0', 'structure_type': 'MOL', 'therapeutic_flag': True, 'topical': False, 'usan_stem': '-rubicin', 'usan_stem_definition': 'antineoplastic antibiotics (daunorubicin type)', 'usan_substem': '-rubicin', 'usan_year': 1984, 'withdrawn_class': None, 'withdrawn_country': None, 'withdrawn_flag': False, 'withdrawn_reason': None, 'withdrawn_year': None}, '...(remaining elements truncated)...']"
      ]
     },
     "execution_count": 3,
     "metadata": {},
     "output_type": "execute_result"
    }
   ],
   "source": [
    "lung_cancer_mols"
   ]
  },
  {
   "cell_type": "code",
   "execution_count": null,
   "metadata": {},
   "outputs": [],
   "source": [
    "numMols = #\n",
    "molArray = []\n",
    "#the smiles array\n",
    "for x in range(0,20):\n",
    "    arr = lung_cancer_mols[x]['molecule_structures']['canonical_smiles']\n",
    "    mol = AllChem.MolFromSmiles(arr)\n",
    "    if mol != None:\n",
    "        molArray.append(mol)\n",
    "        \n",
    "        \n",
    "#ExactWeightArray\n",
    "\n",
    "from rdkit import Chem\n",
    "from rdkit.Chem import Descriptors\n",
    "\n",
    "\n",
    "propArr = {}\n",
    "properties = ['Mol_weight', 'FpDensityMorgan1', 'MaxAbsPartialCharge', 'NumRadicalElectrons', 'NumValenceElectrons', 'NumHBA', 'NumHBD', 'NumLipinskiHBA', 'NumLipinskiHBD', 'HeavyAtomCount']\n",
    "\n",
    "for factor in properties:\n",
    "    propArr[factor] = []\n",
    "    \n",
    "\n",
    "for i in range(0,20):\n",
    "    for factor in properties:\n",
    "        if factor ==\"Mol_weight\":\n",
    "            value = ExactMolWt(Chem.MolfromSmiles(generatedMol(i)))\n",
    "            propArr[factor].append(value)\n",
    "        if factor == \"FpDensityMorgan1\":\n",
    "            value = FpDensityMorgan1(Chem.MolfromSmiles(generatedMol(i)))\n",
    "            propArr[factor].append(value)  \n",
    "        if factor == \"MaxAbsPartialCharge\":\n",
    "            value = MaxAbsPartialCharge(Chem.MolfromSmiles(generatedMol(i))\n",
    "            propArr[factor].append(value)\n",
    "        if factor == \"NumRadicalElectrons\":\n",
    "            value = NumRadicalElectrons(Chem.MolfromSmiles(generatedMol(i))\n",
    "            propArr[factor].append(value)\n",
    "        if factor == \"NumValenceElectrons\":\n",
    "            value = NumValenceElectrons(Chem.MolfromSmiles(generatedMol(i))\n",
    "            propArr[factor].append(value)\n",
    "        if factor == \"numAromaticRings\":\n",
    "            value = rdkit.Chem.rdMolDescriptors.CalcNumAromaticRings(Chem.MolfromSmiles(generatedMol(i))\n",
    "            propArr[factor].append(value)\n",
    "        if factor == \"NumHBA\":\n",
    "            value = rdkit.Chem.rdMolDescriptors.CalcNumHBA(Chem.MolfromSmiles(generatedMol(i))\n",
    "            propArr[factor].append(value)\n",
    "        if factor == \"NumHBD\":\n",
    "            value = rdkit.Chem.rdMolDescriptors.CalcNumHBD(Chem.MolfromSmiles(generatedMol(i))\n",
    "            propArr[factor].append(value)\n",
    "        if factor == NumLipinskiHBA\":\n",
    "            value = rdkit.Chem.rdMolDescriptors.CalcNumLipinskiHBA(Chem.MolfromSmiles(generatedMol(i))\n",
    "            propArr[factor].append(value)\n",
    "        if factor ==\"NumLipinskiHBD\":\n",
    "            value = rdkit.Chem.rdMolDescriptors.CalcNumLipinskiHBD(Chem.MolfromSmiles(generatedMol(i))\n",
    "            propArr[factor].append(value)\n",
    "        if factor == \"HeavyAtomCount\":\n",
    "            value = HeavyAtomCount(Chem.MolfromSmiles(generatedMol(i))\n",
    "            propArr[factor].append(value)\n",
    "    "
   ]
  },
  {
   "cell_type": "code",
   "execution_count": null,
   "metadata": {},
   "outputs": [],
   "source": [
    "#Creating a dictionary with known quantities of the CHEMBL molecules\n",
    "x = {}\n",
    "properties1 = ['FpDensityMorgan1', 'MaxAbsPartialCharge', 'NumRadicalElectrons', 'NumValenceElectrons']  \n",
    "for i in range(0,4):\n",
    "    x[properties1[i]] = []\n",
    "                                   \n",
    "for i in range(0,30):\n",
    "    for factor in properties1:\n",
    "        if factor ==\"FpDensityMorgan1\":\n",
    "            value = FpDensityMorgan1(Chem.MolfromSmiles(molArray(i)))\n",
    "            (x[factor]).append(value)  \n",
    "        if factor == \"MaxAbsPartialCharge\":\n",
    "            value = MaxAbsPartialCharge(Chem.MolfromSmiles(molArray(i))\n",
    "            (x[factor]).append(value)\n",
    "        if factor ==\"NumRadicalElectrons\":\n",
    "            value = NumRadicalElectrons(Chem.MolfromSmiles(molArray(i))\n",
    "            (x[factor]).append(value)\n",
    "        if factor == \"NumValenceElectrons\":\n",
    "            value = NumValenceElectrons(Chem.MolfromSmiles(molArray(i))\n",
    "            (x[factor]).append(value)\n",
    "properties2 = ['hba','hba_lipinski','hbd', 'hbd_lipinski','heavy_atoms']\n",
    "                                        \n",
    "\n",
    "                                        \n",
    "for j in range(0,4):\n",
    "    x[properties2[j]] = []\n",
    "                                        \n",
    "for j in range(0,30):\n",
    "    for factor in properties2:\n",
    "        if factor.equals == \"hba\":\n",
    "            value = lung_cancer_mols[x]['molecule_properties'][factor]\n",
    "            (x[factor]).append(value)  \n",
    "        if factor.equals == \"hba_lipinski\":\n",
    "            value = lung_cancer_mols[x]['molecule_properties'][factor]\n",
    "            (x[factor]).append(value)\n",
    "        if factor == \"hbd\":\n",
    "            value = lung_cancer_mols[x]['molecule_properties'][factor]\n",
    "            (x[factor]).append(value)\n",
    "        if factor == \"hbd_lipinski\":\n",
    "            value = lung_cancer_mols[x]['molecule_properties'][factor]\n",
    "            (x[factor]).append(value)\n",
    "        if factor == \"heavy_atoms\":\n",
    "            value = lung_cancer_mols[x]['molecule_properties'][factor]\n",
    "            (x[factor]).append(value)\n",
    "                                        \n",
    "import pandas as pd"
   ]
  },
  {
   "cell_type": "code",
   "execution_count": null,
   "metadata": {},
   "outputs": [],
   "source": [
    "#Creating the appropriate pandas data frame.\n",
    "arr = lung_cancer_mols[0]['molecule_properties']\n",
    "for i in range(0,1):\n",
    "    arr['max_phase'] = lung_cancer_mols[i]['max_phase']\n",
    "arr['active'] = 1\n",
    "arr_labels = []\n",
    "for key in arr.keys():\n",
    "    arr_labels.append(key)\n",
    "a = []\n",
    "for i in range(24):\n",
    "    a.append([])   \n",
    "    \n",
    "\n",
    "\n",
    "for q in range(0,24):\n",
    "    a[q].append(arr[arr_labels[q]])\n",
    "    \n",
    "\n",
    "\n",
    "index = []\n",
    "for p in range(1,30):\n",
    "    count = 1\n",
    "    list1 = lung_cancer_mols[p]['molecule_properties']\n",
    "    list1['max_phase'] = lung_cancer_mols[p]['max_phase']\n",
    "    list1['active'] = 1\n",
    "    for j in range(0,24):\n",
    "        a[j].append(list1[arr_labels[j]])\n",
    "    count += 1\n",
    "\n",
    "\n",
    "def makeDict(list1, list2):\n",
    "    new_Dict = {}\n",
    "    for i in range(0,24):\n",
    "        new_Dict[list1[i]] = list2[i]\n",
    "    return new_Dict\n",
    "for i in range(1,31):\n",
    "    index.append(i)\n",
    "\n",
    "data2 = pd.DataFrame(data = makeDict(arr_labels, a),index = index, copy = True)\n",
    "data2 = data2[arr_labels]\n",
    "data2.head()"
   ]
  },
  {
   "cell_type": "code",
   "execution_count": null,
   "metadata": {},
   "outputs": [],
   "source": [
    "data2.drop(labels = ['max_phase', 'full_molformula','active'],axis = 1,inplace= True)\n",
    "data2['molecular_species'].replace(to_replace=['NEUTRAL'], value = 0.5, inplace = True)\n",
    "data2['molecular_species'].replace(to_replace=['BASE'], value = 1,inplace=True)\n",
    "data2['ro3_pass'].replace(to_replace=['Y'], value = 1,inplace=True)\n",
    "data2['ro3_pass'].replace(to_replace = ['N'], value = 0, inplace=True)\n",
    "data2['molecular_species'].replace(to_replace=['ACID'], value = 0,inplace=True)\n",
    "data2 = data2.apply(pd.to_numeric, errors = 'ignore')\n",
    "\n",
    "X = data2.iloc[::].values"
   ]
  },
  {
   "cell_type": "code",
   "execution_count": null,
   "metadata": {},
   "outputs": [],
   "source": [
    "from statistics import median\n",
    "import numpy as np\n",
    "import math\n",
    "for i in range(0,30):\n",
    "    for j in range(0, len(X[i])):\n",
    "        lst = []\n",
    "        if math.isnan(X[i][j]):\n",
    "            for b in range(0,30):\n",
    "                if math.isnan(X[b][j]) == False:\n",
    "                    \n",
    "                    lst.append(X[b][j])\n",
    "            X[i][j] = median(lst)\n",
    "            \n",
    "for i in range(0,30):\n",
    "    for j in range(0, len(X[i])):\n",
    "        X[i][j] = np.float32(X[i][j])\n",
    "def median(lst):\n",
    "    sortedLst = sorted(lst)\n",
    "    lstLen = len(lst)\n",
    "    index = (lstLen - 1) // 2\n",
    "\n",
    "    if (lstLen % 2):\n",
    "        return sortedLst[index]\n",
    "    else:\n",
    "        return (sortedLst[index] + sortedLst[index + 1])/2.0"
   ]
  },
  {
   "cell_type": "code",
   "execution_count": null,
   "metadata": {},
   "outputs": [],
   "source": [
    "data3 = pd.DataFrame(data = x, index = index, copy = True)"
   ]
  },
  {
   "cell_type": "code",
   "execution_count": null,
   "metadata": {},
   "outputs": [],
   "source": [
    "results = {}\n",
    "X1 = data3.iloc[::].values\n",
    "for i in range(0,30):\n",
    "    y = X[i]\n",
    "    X_train, X_test, y_train, y_test = train_test_split(X1, y, test_size = 0.3, random_state = 0)\n",
    "\n",
    "    rf = RandomForestClassifier(n_estimators = 50)\n",
    "    \n",
    "    rf.fit(X_train,y_train)\n",
    "    \n",
    "    results[i] = rf.pred(X_test)\n",
    "\n"
   ]
  }
 ],
 "metadata": {
  "kernelspec": {
   "display_name": "Python 3",
   "language": "python",
   "name": "python3"
  },
  "language_info": {
   "codemirror_mode": {
    "name": "ipython",
    "version": 3
   },
   "file_extension": ".py",
   "mimetype": "text/x-python",
   "name": "python",
   "nbconvert_exporter": "python",
   "pygments_lexer": "ipython3",
   "version": "3.6.7"
  }
 },
 "nbformat": 4,
 "nbformat_minor": 2
}
